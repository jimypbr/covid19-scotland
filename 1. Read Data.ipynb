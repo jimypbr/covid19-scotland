{
 "cells": [
  {
   "cell_type": "code",
   "execution_count": 21,
   "metadata": {},
   "outputs": [],
   "source": [
    "import pandas as pd"
   ]
  },
  {
   "cell_type": "code",
   "execution_count": 22,
   "metadata": {},
   "outputs": [],
   "source": [
    "data_path = './corona_scotland.xlsx'"
   ]
  },
  {
   "cell_type": "code",
   "execution_count": 23,
   "metadata": {},
   "outputs": [],
   "source": [
    "df = pd.read_excel(data_path, \n",
    "                   dtype={'Total Tests': 'Int32',\n",
    "                          'Total Positive Cases': 'Int32',\n",
    "                          'Total Deaths': 'Int32'}\n",
    "                   ).ffill()\n",
    "df = df[df['Health Board'] != 'Golden Jubilee National Hospital']"
   ]
  },
  {
   "cell_type": "code",
   "execution_count": 24,
   "metadata": {},
   "outputs": [
    {
     "data": {
      "text/html": [
       "<div>\n",
       "<style scoped>\n",
       "    .dataframe tbody tr th:only-of-type {\n",
       "        vertical-align: middle;\n",
       "    }\n",
       "\n",
       "    .dataframe tbody tr th {\n",
       "        vertical-align: top;\n",
       "    }\n",
       "\n",
       "    .dataframe thead th {\n",
       "        text-align: right;\n",
       "    }\n",
       "</style>\n",
       "<table border=\"1\" class=\"dataframe\">\n",
       "  <thead>\n",
       "    <tr style=\"text-align: right;\">\n",
       "      <th></th>\n",
       "      <th>Date</th>\n",
       "      <th>Health Board</th>\n",
       "      <th>Number of Positive cases</th>\n",
       "      <th>Total Tests</th>\n",
       "      <th>Total Positive Cases</th>\n",
       "      <th>Total Deaths</th>\n",
       "    </tr>\n",
       "  </thead>\n",
       "  <tbody>\n",
       "    <tr>\n",
       "      <th>0</th>\n",
       "      <td>2020-03-06</td>\n",
       "      <td>Tayside</td>\n",
       "      <td>1</td>\n",
       "      <td>1514</td>\n",
       "      <td>11</td>\n",
       "      <td>0</td>\n",
       "    </tr>\n",
       "    <tr>\n",
       "      <th>1</th>\n",
       "      <td>2020-03-06</td>\n",
       "      <td>Ayrshire &amp; Arran</td>\n",
       "      <td>1</td>\n",
       "      <td>1514</td>\n",
       "      <td>11</td>\n",
       "      <td>0</td>\n",
       "    </tr>\n",
       "    <tr>\n",
       "      <th>2</th>\n",
       "      <td>2020-03-06</td>\n",
       "      <td>Forth Valley</td>\n",
       "      <td>2</td>\n",
       "      <td>1514</td>\n",
       "      <td>11</td>\n",
       "      <td>0</td>\n",
       "    </tr>\n",
       "    <tr>\n",
       "      <th>3</th>\n",
       "      <td>2020-03-06</td>\n",
       "      <td>Greater Glasgow and Clyde</td>\n",
       "      <td>1</td>\n",
       "      <td>1514</td>\n",
       "      <td>11</td>\n",
       "      <td>0</td>\n",
       "    </tr>\n",
       "    <tr>\n",
       "      <th>4</th>\n",
       "      <td>2020-03-06</td>\n",
       "      <td>Grampian</td>\n",
       "      <td>3</td>\n",
       "      <td>1514</td>\n",
       "      <td>11</td>\n",
       "      <td>0</td>\n",
       "    </tr>\n",
       "    <tr>\n",
       "      <th>...</th>\n",
       "      <td>...</td>\n",
       "      <td>...</td>\n",
       "      <td>...</td>\n",
       "      <td>...</td>\n",
       "      <td>...</td>\n",
       "      <td>...</td>\n",
       "    </tr>\n",
       "    <tr>\n",
       "      <th>451</th>\n",
       "      <td>2020-04-12</td>\n",
       "      <td>Lothian</td>\n",
       "      <td>915</td>\n",
       "      <td>31114</td>\n",
       "      <td>5912</td>\n",
       "      <td>566</td>\n",
       "    </tr>\n",
       "    <tr>\n",
       "      <th>452</th>\n",
       "      <td>2020-04-12</td>\n",
       "      <td>Orkney</td>\n",
       "      <td>5</td>\n",
       "      <td>31114</td>\n",
       "      <td>5912</td>\n",
       "      <td>566</td>\n",
       "    </tr>\n",
       "    <tr>\n",
       "      <th>453</th>\n",
       "      <td>2020-04-12</td>\n",
       "      <td>Shetland</td>\n",
       "      <td>43</td>\n",
       "      <td>31114</td>\n",
       "      <td>5912</td>\n",
       "      <td>566</td>\n",
       "    </tr>\n",
       "    <tr>\n",
       "      <th>454</th>\n",
       "      <td>2020-04-12</td>\n",
       "      <td>Tayside</td>\n",
       "      <td>803</td>\n",
       "      <td>31114</td>\n",
       "      <td>5912</td>\n",
       "      <td>566</td>\n",
       "    </tr>\n",
       "    <tr>\n",
       "      <th>455</th>\n",
       "      <td>2020-04-12</td>\n",
       "      <td>Eileanan Siar (Western Isles)</td>\n",
       "      <td>6</td>\n",
       "      <td>31114</td>\n",
       "      <td>5912</td>\n",
       "      <td>566</td>\n",
       "    </tr>\n",
       "  </tbody>\n",
       "</table>\n",
       "<p>453 rows × 6 columns</p>\n",
       "</div>"
      ],
      "text/plain": [
       "          Date                   Health Board  Number of Positive cases  \\\n",
       "0   2020-03-06                        Tayside                         1   \n",
       "1   2020-03-06               Ayrshire & Arran                         1   \n",
       "2   2020-03-06                   Forth Valley                         2   \n",
       "3   2020-03-06      Greater Glasgow and Clyde                         1   \n",
       "4   2020-03-06                       Grampian                         3   \n",
       "..         ...                            ...                       ...   \n",
       "451 2020-04-12                        Lothian                       915   \n",
       "452 2020-04-12                         Orkney                         5   \n",
       "453 2020-04-12                       Shetland                        43   \n",
       "454 2020-04-12                        Tayside                       803   \n",
       "455 2020-04-12  Eileanan Siar (Western Isles)                         6   \n",
       "\n",
       "     Total Tests  Total Positive Cases  Total Deaths  \n",
       "0           1514                    11             0  \n",
       "1           1514                    11             0  \n",
       "2           1514                    11             0  \n",
       "3           1514                    11             0  \n",
       "4           1514                    11             0  \n",
       "..           ...                   ...           ...  \n",
       "451        31114                  5912           566  \n",
       "452        31114                  5912           566  \n",
       "453        31114                  5912           566  \n",
       "454        31114                  5912           566  \n",
       "455        31114                  5912           566  \n",
       "\n",
       "[453 rows x 6 columns]"
      ]
     },
     "execution_count": 24,
     "metadata": {},
     "output_type": "execute_result"
    }
   ],
   "source": [
    "df"
   ]
  },
  {
   "cell_type": "markdown",
   "metadata": {},
   "source": [
    "## clean data"
   ]
  },
  {
   "cell_type": "code",
   "execution_count": 25,
   "metadata": {},
   "outputs": [
    {
     "data": {
      "text/plain": [
       "Greater Glasgow and Clyde        38\n",
       "Lothian                          38\n",
       "Forth Valley                     38\n",
       "Grampian                         38\n",
       "Fife                             38\n",
       "Tayside                          38\n",
       "Lanarkshire                      37\n",
       "Shetland                         35\n",
       "Borders                          33\n",
       "Highland                         30\n",
       "Dumfries and Galloway            28\n",
       "Ayrshire and Arran               20\n",
       "Ayrshire and Arran               15\n",
       "Eileanan Siar (Western Isles)    12\n",
       "Orkney                           12\n",
       "Ayrshire & Arran                  3\n",
       "Name: Health Board, dtype: int64"
      ]
     },
     "execution_count": 25,
     "metadata": {},
     "output_type": "execute_result"
    }
   ],
   "source": [
    "df['Health Board'].value_counts()"
   ]
  },
  {
   "cell_type": "code",
   "execution_count": 26,
   "metadata": {},
   "outputs": [],
   "source": [
    "# clean up some names\n",
    "df.loc[df['Health Board'] == 'Ayrshire\\xa0and Arran', 'Health Board'] = 'Ayrshire and Arran' \n",
    "df.loc[df['Health Board'] == 'Ayrshire & Arran', 'Health Board'] = 'Ayrshire and Arran' "
   ]
  },
  {
   "cell_type": "code",
   "execution_count": 27,
   "metadata": {
    "scrolled": true
   },
   "outputs": [
    {
     "data": {
      "text/plain": [
       "Greater Glasgow and Clyde        38\n",
       "Ayrshire and Arran               38\n",
       "Lothian                          38\n",
       "Forth Valley                     38\n",
       "Grampian                         38\n",
       "Fife                             38\n",
       "Tayside                          38\n",
       "Lanarkshire                      37\n",
       "Shetland                         35\n",
       "Borders                          33\n",
       "Highland                         30\n",
       "Dumfries and Galloway            28\n",
       "Eileanan Siar (Western Isles)    12\n",
       "Orkney                           12\n",
       "Name: Health Board, dtype: int64"
      ]
     },
     "execution_count": 27,
     "metadata": {},
     "output_type": "execute_result"
    }
   ],
   "source": [
    "df['Health Board'].value_counts()"
   ]
  },
  {
   "cell_type": "markdown",
   "metadata": {},
   "source": [
    "## table of number cases per region over time"
   ]
  },
  {
   "cell_type": "code",
   "execution_count": 28,
   "metadata": {},
   "outputs": [],
   "source": [
    "df_cases = df[['Date', 'Health Board', 'Number of Positive cases']]"
   ]
  },
  {
   "cell_type": "code",
   "execution_count": 29,
   "metadata": {},
   "outputs": [],
   "source": [
    "df_table = pd.pivot_table(df_cases, \n",
    "                          columns=['Health Board'], \n",
    "                          values=['Number of Positive cases'], \n",
    "                          index=['Date'],\n",
    "                          fill_value=0,\n",
    "                         ).astype('int32')\n",
    "\n",
    "df_table.columns = df_table.columns.droplevel(0)"
   ]
  },
  {
   "cell_type": "code",
   "execution_count": 30,
   "metadata": {},
   "outputs": [],
   "source": [
    "df_table['Scotland (Total)'] = df_table.sum(axis=1)"
   ]
  },
  {
   "cell_type": "code",
   "execution_count": 31,
   "metadata": {},
   "outputs": [],
   "source": [
    "df_table.to_pickle('corona_scotland_regions_ts.pk')"
   ]
  },
  {
   "cell_type": "code",
   "execution_count": null,
   "metadata": {},
   "outputs": [],
   "source": []
  },
  {
   "cell_type": "markdown",
   "metadata": {},
   "source": [
    "## table of national cases, tests, and deaths over time"
   ]
  },
  {
   "cell_type": "code",
   "execution_count": 32,
   "metadata": {},
   "outputs": [],
   "source": [
    "df_national = (df.drop(columns=['Health Board', 'Number of Positive cases'])\n",
    "                 .groupby('Date').first()\n",
    "              )"
   ]
  },
  {
   "cell_type": "code",
   "execution_count": 33,
   "metadata": {},
   "outputs": [
    {
     "data": {
      "text/plain": [
       "DatetimeIndex(['2020-03-06', '2020-03-07', '2020-03-08', '2020-03-09',\n",
       "               '2020-03-10', '2020-03-11', '2020-03-12', '2020-03-13',\n",
       "               '2020-03-14', '2020-03-15', '2020-03-16', '2020-03-17',\n",
       "               '2020-03-18', '2020-03-19', '2020-03-20', '2020-03-21',\n",
       "               '2020-03-22', '2020-03-23', '2020-03-24', '2020-03-25',\n",
       "               '2020-03-26', '2020-03-27', '2020-03-28', '2020-03-29',\n",
       "               '2020-03-30', '2020-03-31', '2020-04-01', '2020-04-02',\n",
       "               '2020-04-03', '2020-04-04', '2020-04-05', '2020-04-06',\n",
       "               '2020-04-07', '2020-04-08', '2020-04-09', '2020-04-10',\n",
       "               '2020-04-11', '2020-04-12'],\n",
       "              dtype='datetime64[ns]', name='Date', freq=None)"
      ]
     },
     "execution_count": 33,
     "metadata": {},
     "output_type": "execute_result"
    }
   ],
   "source": [
    "df_national.index"
   ]
  },
  {
   "cell_type": "code",
   "execution_count": 34,
   "metadata": {},
   "outputs": [],
   "source": [
    "df_national.to_pickle('corona_scotland_total_stats.pk')"
   ]
  },
  {
   "cell_type": "code",
   "execution_count": null,
   "metadata": {},
   "outputs": [],
   "source": []
  },
  {
   "cell_type": "markdown",
   "metadata": {},
   "source": [
    "## Scotland Population Data"
   ]
  },
  {
   "cell_type": "code",
   "execution_count": 35,
   "metadata": {},
   "outputs": [],
   "source": [
    "region_pops = {\n",
    "    'Ayrshire and Arran': 369670,\n",
    "    'Borders': 115270, \n",
    "    'Dumfries and Galloway': 148790,\n",
    "    'Fife': 371910,\n",
    "    'Forth Valley': 306070,\n",
    "    'Grampian': 584550,\n",
    "    'Greater Glasgow and Clyde': 1196335,\n",
    "    'Highland': 321800,\n",
    "    'Lanarkshire': 563185,\n",
    "    'Lothian': 897770,\n",
    "    'Orkney': 22190,\n",
    "    'Shetland': 22990,\n",
    "    'Tayside': 416080,\n",
    "    'Eileanan Siar (Western Isles)': 26500,\n",
    "    #'Scotland (Total)': 5438000,\n",
    "}"
   ]
  },
  {
   "cell_type": "code",
   "execution_count": 36,
   "metadata": {},
   "outputs": [],
   "source": [
    "df_pop = pd.DataFrame(region_pops.items(), columns=['Region', 'Pop']).set_index('Region').sort_index()"
   ]
  },
  {
   "cell_type": "code",
   "execution_count": 37,
   "metadata": {},
   "outputs": [],
   "source": [
    "df_pop.loc['Scotland (Total)'] = 5438000"
   ]
  },
  {
   "cell_type": "code",
   "execution_count": 38,
   "metadata": {
    "scrolled": false
   },
   "outputs": [
    {
     "data": {
      "text/html": [
       "<div>\n",
       "<style scoped>\n",
       "    .dataframe tbody tr th:only-of-type {\n",
       "        vertical-align: middle;\n",
       "    }\n",
       "\n",
       "    .dataframe tbody tr th {\n",
       "        vertical-align: top;\n",
       "    }\n",
       "\n",
       "    .dataframe thead th {\n",
       "        text-align: right;\n",
       "    }\n",
       "</style>\n",
       "<table border=\"1\" class=\"dataframe\">\n",
       "  <thead>\n",
       "    <tr style=\"text-align: right;\">\n",
       "      <th></th>\n",
       "      <th>Pop</th>\n",
       "    </tr>\n",
       "    <tr>\n",
       "      <th>Region</th>\n",
       "      <th></th>\n",
       "    </tr>\n",
       "  </thead>\n",
       "  <tbody>\n",
       "    <tr>\n",
       "      <th>Ayrshire and Arran</th>\n",
       "      <td>369670</td>\n",
       "    </tr>\n",
       "    <tr>\n",
       "      <th>Borders</th>\n",
       "      <td>115270</td>\n",
       "    </tr>\n",
       "    <tr>\n",
       "      <th>Dumfries and Galloway</th>\n",
       "      <td>148790</td>\n",
       "    </tr>\n",
       "    <tr>\n",
       "      <th>Eileanan Siar (Western Isles)</th>\n",
       "      <td>26500</td>\n",
       "    </tr>\n",
       "    <tr>\n",
       "      <th>Fife</th>\n",
       "      <td>371910</td>\n",
       "    </tr>\n",
       "    <tr>\n",
       "      <th>Forth Valley</th>\n",
       "      <td>306070</td>\n",
       "    </tr>\n",
       "    <tr>\n",
       "      <th>Grampian</th>\n",
       "      <td>584550</td>\n",
       "    </tr>\n",
       "    <tr>\n",
       "      <th>Greater Glasgow and Clyde</th>\n",
       "      <td>1196335</td>\n",
       "    </tr>\n",
       "    <tr>\n",
       "      <th>Highland</th>\n",
       "      <td>321800</td>\n",
       "    </tr>\n",
       "    <tr>\n",
       "      <th>Lanarkshire</th>\n",
       "      <td>563185</td>\n",
       "    </tr>\n",
       "    <tr>\n",
       "      <th>Lothian</th>\n",
       "      <td>897770</td>\n",
       "    </tr>\n",
       "    <tr>\n",
       "      <th>Orkney</th>\n",
       "      <td>22190</td>\n",
       "    </tr>\n",
       "    <tr>\n",
       "      <th>Shetland</th>\n",
       "      <td>22990</td>\n",
       "    </tr>\n",
       "    <tr>\n",
       "      <th>Tayside</th>\n",
       "      <td>416080</td>\n",
       "    </tr>\n",
       "    <tr>\n",
       "      <th>Scotland (Total)</th>\n",
       "      <td>5438000</td>\n",
       "    </tr>\n",
       "  </tbody>\n",
       "</table>\n",
       "</div>"
      ],
      "text/plain": [
       "                                   Pop\n",
       "Region                                \n",
       "Ayrshire and Arran              369670\n",
       "Borders                         115270\n",
       "Dumfries and Galloway           148790\n",
       "Eileanan Siar (Western Isles)    26500\n",
       "Fife                            371910\n",
       "Forth Valley                    306070\n",
       "Grampian                        584550\n",
       "Greater Glasgow and Clyde      1196335\n",
       "Highland                        321800\n",
       "Lanarkshire                     563185\n",
       "Lothian                         897770\n",
       "Orkney                           22190\n",
       "Shetland                         22990\n",
       "Tayside                         416080\n",
       "Scotland (Total)               5438000"
      ]
     },
     "execution_count": 38,
     "metadata": {},
     "output_type": "execute_result"
    }
   ],
   "source": [
    "df_pop"
   ]
  },
  {
   "cell_type": "code",
   "execution_count": 39,
   "metadata": {},
   "outputs": [
    {
     "data": {
      "text/plain": [
       "Pop    5363110\n",
       "dtype: int64"
      ]
     },
     "execution_count": 39,
     "metadata": {},
     "output_type": "execute_result"
    }
   ],
   "source": [
    "df_pop[:14].sum()\n",
    "## hmm missing few thousands??"
   ]
  },
  {
   "cell_type": "code",
   "execution_count": 40,
   "metadata": {},
   "outputs": [],
   "source": [
    "df_pop.to_pickle('scotland_population.pk')"
   ]
  },
  {
   "cell_type": "code",
   "execution_count": null,
   "metadata": {},
   "outputs": [],
   "source": []
  }
 ],
 "metadata": {
  "kernelspec": {
   "display_name": "Python 3",
   "language": "python",
   "name": "python3"
  },
  "language_info": {
   "codemirror_mode": {
    "name": "ipython",
    "version": 3
   },
   "file_extension": ".py",
   "mimetype": "text/x-python",
   "name": "python",
   "nbconvert_exporter": "python",
   "pygments_lexer": "ipython3",
   "version": "3.6.10"
  },
  "toc": {
   "base_numbering": 1,
   "nav_menu": {},
   "number_sections": true,
   "sideBar": true,
   "skip_h1_title": false,
   "title_cell": "Table of Contents",
   "title_sidebar": "Contents",
   "toc_cell": false,
   "toc_position": {},
   "toc_section_display": true,
   "toc_window_display": false
  }
 },
 "nbformat": 4,
 "nbformat_minor": 2
}
